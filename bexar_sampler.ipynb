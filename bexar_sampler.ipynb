{
 "cells": [
  {
   "cell_type": "code",
   "execution_count": 181,
   "metadata": {},
   "outputs": [
    {
     "data": {
      "text/html": [
       "<script>requirejs.config({paths: { 'plotly': ['https://cdn.plot.ly/plotly-latest.min']},});if(!window.Plotly) {{require(['plotly'],function(plotly) {window.Plotly=plotly;});}}</script>"
      ],
      "text/vnd.plotly.v1+html": [
       "<script>requirejs.config({paths: { 'plotly': ['https://cdn.plot.ly/plotly-latest.min']},});if(!window.Plotly) {{require(['plotly'],function(plotly) {window.Plotly=plotly;});}}</script>"
      ]
     },
     "metadata": {},
     "output_type": "display_data"
    }
   ],
   "source": [
    "import pandas\n",
    "import numpy\n",
    "from plotly.offline import download_plotlyjs, init_notebook_mode, plot, iplot\n",
    "init_notebook_mode(connected=True)\n",
    "import plotly.graph_objs as go\n",
    "import xlrd # excel support\n",
    "import cufflinks as cf"
   ]
  },
  {
   "cell_type": "markdown",
   "metadata": {},
   "source": [
    "We're working with an A-B sample of Bexar County District Court records accessed on 6/2/2018. This are almost entirely felony charges."
   ]
  },
  {
   "cell_type": "code",
   "execution_count": 47,
   "metadata": {},
   "outputs": [
    {
     "data": {
      "text/plain": [
       "Index([u'CASE-CAUSE-NBR', u'FULL-NAME', u'ALIAS', u'SEX', u'RACE',\n",
       "       u'BIRTHDATE', u'SID', u'JUDICIAL-NBR', u'ADDR-HOUSE-NBR', u'HOUSE-SUF',\n",
       "       u'ADDR-PRE-DIRECTION', u'ADDR-STREET', u'ADDR-STREET-SUFFIX',\n",
       "       u'ADDR-POST-DIRECTION', u'ADDR-UNIT', u'ADDR-CITY', u'ADDR-STATE',\n",
       "       u'ADDR-ZIP-CODE', u'ADDR-ZIP-PLUS-4', u'OFFENSE-DATE', u'OFFENSE-CODE',\n",
       "       u'OFFENSE-DESC', u'OFFENSE-TYPE', u'REDUCED-OFFENSE-CODE',\n",
       "       u'REDUCED-OFFENSE-DESC', u'REDUCED-OFFENSE-TYPE', u'LOCATION',\n",
       "       u'CUSTODY-DATE', u'COMPLAINT-DATE', u'FILING-AGENCY-DESCRIPTION',\n",
       "       u'CASE-DATE', u'CASE-DESC', u'SETTING-DATE', u'SETTING-TYPE',\n",
       "       u'G-JURY-DATE', u'G-JURY-STATUS', u'DISPOSITION-DATE',\n",
       "       u'DISPOSITION-CODE', u'DISPOSITION-DESC', u'JUDGEMENT-DATE',\n",
       "       u'JUDGEMENT-CODE', u'JUDGEMENT-DESC', u'SENTENCE-DESC', u'SENTENCE',\n",
       "       u'SENTENCE-START-DATE', u'SENTENCE-END-DATE', u'FINE-AMOUNT',\n",
       "       u'COURT-COSTS', u'COURT-TYPE', u'COURT', u'POST-JUDICIAL-FIELD',\n",
       "       u'POST-JUDICIAL-DATE', u'BOND-DATE', u'BOND-STATUS', u'BOND-AMOUNT',\n",
       "       u'BONDSMAN-NAME', u'ATTORNEY', u'ATTORNEY-BAR-NBR',\n",
       "       u'ATTORNEY-APPOINTED-RETAINED', u'INTAKE-PROSECUTOR',\n",
       "       u'OUTTAKE-PROSECUTOR', u'PROBATION-PROSECUTOR',\n",
       "       u'REVOKATION-PROSECUTOR', u'ORIGINAL-SENTENCE'],\n",
       "      dtype='object')"
      ]
     },
     "execution_count": 47,
     "metadata": {},
     "output_type": "execute_result"
    }
   ],
   "source": [
    "df = pandas.read_excel('bexar_sample.xls')\n",
    "df.columns"
   ]
  },
  {
   "cell_type": "code",
   "execution_count": 50,
   "metadata": {},
   "outputs": [
    {
     "data": {
      "text/html": [
       "<div>\n",
       "<style scoped>\n",
       "    .dataframe tbody tr th:only-of-type {\n",
       "        vertical-align: middle;\n",
       "    }\n",
       "\n",
       "    .dataframe tbody tr th {\n",
       "        vertical-align: top;\n",
       "    }\n",
       "\n",
       "    .dataframe thead th {\n",
       "        text-align: right;\n",
       "    }\n",
       "</style>\n",
       "<table border=\"1\" class=\"dataframe\">\n",
       "  <thead>\n",
       "    <tr style=\"text-align: right;\">\n",
       "      <th></th>\n",
       "      <th>SENTENCE</th>\n",
       "      <th>SENTENCE-DAYS</th>\n",
       "      <th>ORIGINAL-SENTENCE</th>\n",
       "      <th>ORIGINAL-SENTENCE-DAYS</th>\n",
       "    </tr>\n",
       "  </thead>\n",
       "  <tbody>\n",
       "    <tr>\n",
       "      <th>0</th>\n",
       "      <td>20000000</td>\n",
       "      <td>730</td>\n",
       "      <td>002YR00MTH00DYS000HR</td>\n",
       "      <td>730</td>\n",
       "    </tr>\n",
       "    <tr>\n",
       "      <th>1</th>\n",
       "      <td>20000000</td>\n",
       "      <td>730</td>\n",
       "      <td>002YR00MTH00DYS000HR</td>\n",
       "      <td>730</td>\n",
       "    </tr>\n",
       "    <tr>\n",
       "      <th>2</th>\n",
       "      <td>20000000</td>\n",
       "      <td>730</td>\n",
       "      <td>002YR00MTH00DYS000HR</td>\n",
       "      <td>730</td>\n",
       "    </tr>\n",
       "    <tr>\n",
       "      <th>3</th>\n",
       "      <td>30000000</td>\n",
       "      <td>1095</td>\n",
       "      <td>010YR00MOS00DYS000HR</td>\n",
       "      <td>3650</td>\n",
       "    </tr>\n",
       "    <tr>\n",
       "      <th>4</th>\n",
       "      <td>0</td>\n",
       "      <td>0</td>\n",
       "      <td></td>\n",
       "      <td>0</td>\n",
       "    </tr>\n",
       "    <tr>\n",
       "      <th>5</th>\n",
       "      <td>20000000</td>\n",
       "      <td>730</td>\n",
       "      <td>002YR00MTH00DYS000HR</td>\n",
       "      <td>730</td>\n",
       "    </tr>\n",
       "    <tr>\n",
       "      <th>6</th>\n",
       "      <td>20000000</td>\n",
       "      <td>730</td>\n",
       "      <td>002YR00MTH00DYS000HR</td>\n",
       "      <td>730</td>\n",
       "    </tr>\n",
       "    <tr>\n",
       "      <th>7</th>\n",
       "      <td>50000000</td>\n",
       "      <td>1825</td>\n",
       "      <td>005YR00MTH00DYS000HR</td>\n",
       "      <td>1825</td>\n",
       "    </tr>\n",
       "    <tr>\n",
       "      <th>8</th>\n",
       "      <td>30000000</td>\n",
       "      <td>1095</td>\n",
       "      <td>003YR00MTH00DYS000HR</td>\n",
       "      <td>1095</td>\n",
       "    </tr>\n",
       "    <tr>\n",
       "      <th>9</th>\n",
       "      <td>600000</td>\n",
       "      <td>0</td>\n",
       "      <td>002YR00MTH00DYS000HR</td>\n",
       "      <td>730</td>\n",
       "    </tr>\n",
       "  </tbody>\n",
       "</table>\n",
       "</div>"
      ],
      "text/plain": [
       "   SENTENCE  SENTENCE-DAYS     ORIGINAL-SENTENCE  ORIGINAL-SENTENCE-DAYS\n",
       "0  20000000            730  002YR00MTH00DYS000HR                     730\n",
       "1  20000000            730  002YR00MTH00DYS000HR                     730\n",
       "2  20000000            730  002YR00MTH00DYS000HR                     730\n",
       "3  30000000           1095  010YR00MOS00DYS000HR                    3650\n",
       "4         0              0                                             0\n",
       "5  20000000            730  002YR00MTH00DYS000HR                     730\n",
       "6  20000000            730  002YR00MTH00DYS000HR                     730\n",
       "7  50000000           1825  005YR00MTH00DYS000HR                    1825\n",
       "8  30000000           1095  003YR00MTH00DYS000HR                    1095\n",
       "9    600000              0  002YR00MTH00DYS000HR                     730"
      ]
     },
     "execution_count": 50,
     "metadata": {},
     "output_type": "execute_result"
    }
   ],
   "source": [
    "# Turn sentence columns into something more manageable\n",
    "\n",
    "def sentence_days(row):\n",
    "    try:\n",
    "        sentence = str(row['SENTENCE'])\n",
    "        hour_days = int(sentence[-3:]) / 24\n",
    "        days = int(sentence[-5:-3]) * 1\n",
    "        month_days = int(sentence[-7:-5]) * 30\n",
    "        years = int(sentence[0: -7]) * 365\n",
    "    except:\n",
    "        return 0\n",
    "    return hour_days + days + month_days + years\n",
    "    \n",
    "def og_sentence_days(row):\n",
    "    try:\n",
    "        sentence = row['ORIGINAL-SENTENCE']\n",
    "        year_days = int(sentence[0:3]) * 365\n",
    "        month_days = int(sentence[5:7]) * 30\n",
    "        days = int(sentence[-10:-8]) * 1\n",
    "        hour_days = int(sentence[-5:-2]) / 24\n",
    "    except:\n",
    "        return 0\n",
    "    return hour_days + days + month_days + year_days\n",
    "\n",
    "df['SENTENCE-DAYS'] = df.apply(lambda row: sentence_days(row), axis=1)\n",
    "df['ORIGINAL-SENTENCE-DAYS'] = df.apply(lambda row: og_sentence_days(row), axis=1)\n",
    "\n",
    "df[['SENTENCE', 'SENTENCE-DAYS', 'ORIGINAL-SENTENCE', 'ORIGINAL-SENTENCE-DAYS']].head(10)"
   ]
  },
  {
   "cell_type": "code",
   "execution_count": 218,
   "metadata": {},
   "outputs": [
    {
     "data": {
      "text/plain": [
       "Index([u'OFFENSE-TYPE', u'ORIGINAL-SENTENCE-DAYS', u'RACE', u'SEX'], dtype='object')"
      ]
     },
     "execution_count": 218,
     "metadata": {},
     "output_type": "execute_result"
    }
   ],
   "source": [
    "sentence_df = df[['OFFENSE-TYPE', 'ORIGINAL-SENTENCE-DAYS', 'RACE', 'SEX']].loc[df['ORIGINAL-SENTENCE-DAYS'] > 0]\n",
    "sentence_df.columns"
   ]
  },
  {
   "cell_type": "code",
   "execution_count": 219,
   "metadata": {},
   "outputs": [
    {
     "data": {
      "text/html": [
       "<div>\n",
       "<style scoped>\n",
       "    .dataframe tbody tr th:only-of-type {\n",
       "        vertical-align: middle;\n",
       "    }\n",
       "\n",
       "    .dataframe tbody tr th {\n",
       "        vertical-align: top;\n",
       "    }\n",
       "\n",
       "    .dataframe thead th {\n",
       "        text-align: right;\n",
       "    }\n",
       "</style>\n",
       "<table border=\"1\" class=\"dataframe\">\n",
       "  <thead>\n",
       "    <tr style=\"text-align: right;\">\n",
       "      <th></th>\n",
       "      <th>OFFENSE-TYPE</th>\n",
       "      <th>RACE</th>\n",
       "      <th>SEX</th>\n",
       "      <th>ORIGINAL-SENTENCE-DAYS</th>\n",
       "    </tr>\n",
       "  </thead>\n",
       "  <tbody>\n",
       "    <tr>\n",
       "      <th>0</th>\n",
       "      <td>F1</td>\n",
       "      <td>B</td>\n",
       "      <td>M</td>\n",
       "      <td>4902.798013</td>\n",
       "    </tr>\n",
       "    <tr>\n",
       "      <th>1</th>\n",
       "      <td>F1</td>\n",
       "      <td>L</td>\n",
       "      <td>F</td>\n",
       "      <td>3465.494624</td>\n",
       "    </tr>\n",
       "    <tr>\n",
       "      <th>2</th>\n",
       "      <td>F1</td>\n",
       "      <td>L</td>\n",
       "      <td>M</td>\n",
       "      <td>4635.724156</td>\n",
       "    </tr>\n",
       "    <tr>\n",
       "      <th>3</th>\n",
       "      <td>F1</td>\n",
       "      <td>W</td>\n",
       "      <td>F</td>\n",
       "      <td>3226.963190</td>\n",
       "    </tr>\n",
       "    <tr>\n",
       "      <th>4</th>\n",
       "      <td>F1</td>\n",
       "      <td>W</td>\n",
       "      <td>M</td>\n",
       "      <td>4501.660297</td>\n",
       "    </tr>\n",
       "    <tr>\n",
       "      <th>5</th>\n",
       "      <td>F2</td>\n",
       "      <td>B</td>\n",
       "      <td>F</td>\n",
       "      <td>2154.496855</td>\n",
       "    </tr>\n",
       "    <tr>\n",
       "      <th>6</th>\n",
       "      <td>F2</td>\n",
       "      <td>B</td>\n",
       "      <td>M</td>\n",
       "      <td>2867.770642</td>\n",
       "    </tr>\n",
       "    <tr>\n",
       "      <th>7</th>\n",
       "      <td>F2</td>\n",
       "      <td>L</td>\n",
       "      <td>F</td>\n",
       "      <td>2266.885932</td>\n",
       "    </tr>\n",
       "    <tr>\n",
       "      <th>8</th>\n",
       "      <td>F2</td>\n",
       "      <td>L</td>\n",
       "      <td>M</td>\n",
       "      <td>2637.511129</td>\n",
       "    </tr>\n",
       "    <tr>\n",
       "      <th>9</th>\n",
       "      <td>F2</td>\n",
       "      <td>W</td>\n",
       "      <td>F</td>\n",
       "      <td>2122.194215</td>\n",
       "    </tr>\n",
       "    <tr>\n",
       "      <th>10</th>\n",
       "      <td>F2</td>\n",
       "      <td>W</td>\n",
       "      <td>M</td>\n",
       "      <td>2452.900886</td>\n",
       "    </tr>\n",
       "    <tr>\n",
       "      <th>11</th>\n",
       "      <td>F3</td>\n",
       "      <td>B</td>\n",
       "      <td>F</td>\n",
       "      <td>1887.717241</td>\n",
       "    </tr>\n",
       "    <tr>\n",
       "      <th>12</th>\n",
       "      <td>F3</td>\n",
       "      <td>B</td>\n",
       "      <td>M</td>\n",
       "      <td>1914.877799</td>\n",
       "    </tr>\n",
       "    <tr>\n",
       "      <th>13</th>\n",
       "      <td>F3</td>\n",
       "      <td>L</td>\n",
       "      <td>F</td>\n",
       "      <td>1763.156627</td>\n",
       "    </tr>\n",
       "    <tr>\n",
       "      <th>14</th>\n",
       "      <td>F3</td>\n",
       "      <td>L</td>\n",
       "      <td>M</td>\n",
       "      <td>1792.057345</td>\n",
       "    </tr>\n",
       "    <tr>\n",
       "      <th>15</th>\n",
       "      <td>F3</td>\n",
       "      <td>W</td>\n",
       "      <td>F</td>\n",
       "      <td>1725.133843</td>\n",
       "    </tr>\n",
       "    <tr>\n",
       "      <th>16</th>\n",
       "      <td>F3</td>\n",
       "      <td>W</td>\n",
       "      <td>M</td>\n",
       "      <td>1775.009975</td>\n",
       "    </tr>\n",
       "    <tr>\n",
       "      <th>17</th>\n",
       "      <td>FS</td>\n",
       "      <td>B</td>\n",
       "      <td>F</td>\n",
       "      <td>924.884804</td>\n",
       "    </tr>\n",
       "    <tr>\n",
       "      <th>18</th>\n",
       "      <td>FS</td>\n",
       "      <td>B</td>\n",
       "      <td>M</td>\n",
       "      <td>724.581491</td>\n",
       "    </tr>\n",
       "    <tr>\n",
       "      <th>19</th>\n",
       "      <td>FS</td>\n",
       "      <td>L</td>\n",
       "      <td>F</td>\n",
       "      <td>824.038002</td>\n",
       "    </tr>\n",
       "    <tr>\n",
       "      <th>20</th>\n",
       "      <td>FS</td>\n",
       "      <td>L</td>\n",
       "      <td>M</td>\n",
       "      <td>757.090064</td>\n",
       "    </tr>\n",
       "    <tr>\n",
       "      <th>21</th>\n",
       "      <td>FS</td>\n",
       "      <td>W</td>\n",
       "      <td>F</td>\n",
       "      <td>889.571914</td>\n",
       "    </tr>\n",
       "    <tr>\n",
       "      <th>22</th>\n",
       "      <td>FS</td>\n",
       "      <td>W</td>\n",
       "      <td>M</td>\n",
       "      <td>777.328144</td>\n",
       "    </tr>\n",
       "  </tbody>\n",
       "</table>\n",
       "</div>"
      ],
      "text/plain": [
       "   OFFENSE-TYPE RACE SEX  ORIGINAL-SENTENCE-DAYS\n",
       "0            F1    B   M             4902.798013\n",
       "1            F1    L   F             3465.494624\n",
       "2            F1    L   M             4635.724156\n",
       "3            F1    W   F             3226.963190\n",
       "4            F1    W   M             4501.660297\n",
       "5            F2    B   F             2154.496855\n",
       "6            F2    B   M             2867.770642\n",
       "7            F2    L   F             2266.885932\n",
       "8            F2    L   M             2637.511129\n",
       "9            F2    W   F             2122.194215\n",
       "10           F2    W   M             2452.900886\n",
       "11           F3    B   F             1887.717241\n",
       "12           F3    B   M             1914.877799\n",
       "13           F3    L   F             1763.156627\n",
       "14           F3    L   M             1792.057345\n",
       "15           F3    W   F             1725.133843\n",
       "16           F3    W   M             1775.009975\n",
       "17           FS    B   F              924.884804\n",
       "18           FS    B   M              724.581491\n",
       "19           FS    L   F              824.038002\n",
       "20           FS    L   M              757.090064\n",
       "21           FS    W   F              889.571914\n",
       "22           FS    W   M              777.328144"
      ]
     },
     "execution_count": 219,
     "metadata": {},
     "output_type": "execute_result"
    }
   ],
   "source": [
    "sentence_grouped = sentence_df.groupby(['OFFENSE-TYPE', 'RACE', 'SEX'], as_index=False).agg(['mean', 'count']).reset_index()\n",
    "sentence_grouped = sentence_grouped.loc[sentence_grouped['ORIGINAL-SENTENCE-DAYS']['count'] > 100]\n",
    "sentence_grouped = sentence_grouped.reset_index().drop('index', 1).swaplevel(axis=1).drop('count', 1)\n",
    "sentence_grouped.columns = sentence_grouped.columns.droplevel()\n",
    "sentence_grouped"
   ]
  },
  {
   "cell_type": "code",
   "execution_count": 224,
   "metadata": {},
   "outputs": [
    {
     "data": {
      "application/vnd.plotly.v1+json": {
       "data": [
        {
         "marker": {
          "color": "rgba(255, 153, 51, 0.6)",
          "line": {
           "color": "rgba(255, 153, 51, 1.0)",
           "width": 1
          }
         },
         "name": "(u'F', u'B')",
         "orientation": "v",
         "text": "",
         "type": "bar",
         "x": [
          "F1",
          "F2",
          "F3",
          "FS"
         ],
         "y": [
          "",
          2154.496855345912,
          1887.7172413793103,
          924.8848039215686
         ]
        },
        {
         "marker": {
          "color": "rgba(55, 128, 191, 0.6)",
          "line": {
           "color": "rgba(55, 128, 191, 1.0)",
           "width": 1
          }
         },
         "name": "(u'F', u'L')",
         "orientation": "v",
         "text": "",
         "type": "bar",
         "x": [
          "F1",
          "F2",
          "F3",
          "FS"
         ],
         "y": [
          3465.494623655914,
          2266.885931558935,
          1763.1566265060242,
          824.0380021715526
         ]
        },
        {
         "marker": {
          "color": "rgba(50, 171, 96, 0.6)",
          "line": {
           "color": "rgba(50, 171, 96, 1.0)",
           "width": 1
          }
         },
         "name": "(u'F', u'W')",
         "orientation": "v",
         "text": "",
         "type": "bar",
         "x": [
          "F1",
          "F2",
          "F3",
          "FS"
         ],
         "y": [
          3226.963190184049,
          2122.194214876033,
          1725.133843212237,
          889.5719139297848
         ]
        },
        {
         "marker": {
          "color": "rgba(128, 0, 128, 0.6)",
          "line": {
           "color": "rgba(128, 0, 128, 1.0)",
           "width": 1
          }
         },
         "name": "(u'M', u'B')",
         "orientation": "v",
         "text": "",
         "type": "bar",
         "x": [
          "F1",
          "F2",
          "F3",
          "FS"
         ],
         "y": [
          4902.798013245033,
          2867.770642201835,
          1914.8777985074628,
          724.5814905814906
         ]
        },
        {
         "marker": {
          "color": "rgba(219, 64, 82, 0.6)",
          "line": {
           "color": "rgba(219, 64, 82, 1.0)",
           "width": 1
          }
         },
         "name": "(u'M', u'L')",
         "orientation": "v",
         "text": "",
         "type": "bar",
         "x": [
          "F1",
          "F2",
          "F3",
          "FS"
         ],
         "y": [
          4635.724155578301,
          2637.5111290975315,
          1792.0573446327683,
          757.0900641025642
         ]
        },
        {
         "marker": {
          "color": "rgba(0, 128, 128, 0.6)",
          "line": {
           "color": "rgba(0, 128, 128, 1.0)",
           "width": 1
          }
         },
         "name": "(u'M', u'W')",
         "orientation": "v",
         "text": "",
         "type": "bar",
         "x": [
          "F1",
          "F2",
          "F3",
          "FS"
         ],
         "y": [
          4501.660297239915,
          2452.90088638195,
          1775.0099750623442,
          777.3281444582815
         ]
        }
       ],
       "layout": {
        "legend": {
         "bgcolor": "#F5F6F9",
         "font": {
          "color": "#4D5663"
         }
        },
        "paper_bgcolor": "#F5F6F9",
        "plot_bgcolor": "#F5F6F9",
        "titlefont": {
         "color": "#4D5663"
        },
        "xaxis1": {
         "gridcolor": "#E1E5ED",
         "showgrid": true,
         "tickfont": {
          "color": "#4D5663"
         },
         "title": "",
         "titlefont": {
          "color": "#4D5663"
         },
         "zerolinecolor": "#E1E5ED"
        },
        "yaxis1": {
         "gridcolor": "#E1E5ED",
         "showgrid": true,
         "tickfont": {
          "color": "#4D5663"
         },
         "title": "",
         "titlefont": {
          "color": "#4D5663"
         },
         "zerolinecolor": "#E1E5ED"
        }
       }
      },
      "text/html": [
       "<div id=\"06a46c07-8c2a-4dad-9a86-9fbb2d5963d0\" style=\"height: 525px; width: 100%;\" class=\"plotly-graph-div\"></div><script type=\"text/javascript\">require([\"plotly\"], function(Plotly) { window.PLOTLYENV=window.PLOTLYENV || {};window.PLOTLYENV.BASE_URL=\"https://plot.ly\";Plotly.newPlot(\"06a46c07-8c2a-4dad-9a86-9fbb2d5963d0\", [{\"name\": \"(u'F', u'B')\", \"text\": \"\", \"y\": [\"\", 2154.496855345912, 1887.7172413793103, 924.8848039215686], \"marker\": {\"color\": \"rgba(255, 153, 51, 0.6)\", \"line\": {\"color\": \"rgba(255, 153, 51, 1.0)\", \"width\": 1}}, \"x\": [\"F1\", \"F2\", \"F3\", \"FS\"], \"type\": \"bar\", \"orientation\": \"v\"}, {\"name\": \"(u'F', u'L')\", \"text\": \"\", \"y\": [3465.494623655914, 2266.885931558935, 1763.1566265060242, 824.0380021715526], \"marker\": {\"color\": \"rgba(55, 128, 191, 0.6)\", \"line\": {\"color\": \"rgba(55, 128, 191, 1.0)\", \"width\": 1}}, \"x\": [\"F1\", \"F2\", \"F3\", \"FS\"], \"type\": \"bar\", \"orientation\": \"v\"}, {\"name\": \"(u'F', u'W')\", \"text\": \"\", \"y\": [3226.963190184049, 2122.194214876033, 1725.133843212237, 889.5719139297848], \"marker\": {\"color\": \"rgba(50, 171, 96, 0.6)\", \"line\": {\"color\": \"rgba(50, 171, 96, 1.0)\", \"width\": 1}}, \"x\": [\"F1\", \"F2\", \"F3\", \"FS\"], \"type\": \"bar\", \"orientation\": \"v\"}, {\"name\": \"(u'M', u'B')\", \"text\": \"\", \"y\": [4902.798013245033, 2867.770642201835, 1914.8777985074628, 724.5814905814906], \"marker\": {\"color\": \"rgba(128, 0, 128, 0.6)\", \"line\": {\"color\": \"rgba(128, 0, 128, 1.0)\", \"width\": 1}}, \"x\": [\"F1\", \"F2\", \"F3\", \"FS\"], \"type\": \"bar\", \"orientation\": \"v\"}, {\"name\": \"(u'M', u'L')\", \"text\": \"\", \"y\": [4635.724155578301, 2637.5111290975315, 1792.0573446327683, 757.0900641025642], \"marker\": {\"color\": \"rgba(219, 64, 82, 0.6)\", \"line\": {\"color\": \"rgba(219, 64, 82, 1.0)\", \"width\": 1}}, \"x\": [\"F1\", \"F2\", \"F3\", \"FS\"], \"type\": \"bar\", \"orientation\": \"v\"}, {\"name\": \"(u'M', u'W')\", \"text\": \"\", \"y\": [4501.660297239915, 2452.90088638195, 1775.0099750623442, 777.3281444582815], \"marker\": {\"color\": \"rgba(0, 128, 128, 0.6)\", \"line\": {\"color\": \"rgba(0, 128, 128, 1.0)\", \"width\": 1}}, \"x\": [\"F1\", \"F2\", \"F3\", \"FS\"], \"type\": \"bar\", \"orientation\": \"v\"}], {\"paper_bgcolor\": \"#F5F6F9\", \"plot_bgcolor\": \"#F5F6F9\", \"xaxis1\": {\"tickfont\": {\"color\": \"#4D5663\"}, \"title\": \"\", \"showgrid\": true, \"zerolinecolor\": \"#E1E5ED\", \"gridcolor\": \"#E1E5ED\", \"titlefont\": {\"color\": \"#4D5663\"}}, \"yaxis1\": {\"tickfont\": {\"color\": \"#4D5663\"}, \"title\": \"\", \"showgrid\": true, \"zerolinecolor\": \"#E1E5ED\", \"gridcolor\": \"#E1E5ED\", \"titlefont\": {\"color\": \"#4D5663\"}}, \"titlefont\": {\"color\": \"#4D5663\"}, \"legend\": {\"bgcolor\": \"#F5F6F9\", \"font\": {\"color\": \"#4D5663\"}}}, {\"linkText\": \"Export to plot.ly\", \"showLink\": true})});</script>"
      ],
      "text/vnd.plotly.v1+html": [
       "<div id=\"06a46c07-8c2a-4dad-9a86-9fbb2d5963d0\" style=\"height: 525px; width: 100%;\" class=\"plotly-graph-div\"></div><script type=\"text/javascript\">require([\"plotly\"], function(Plotly) { window.PLOTLYENV=window.PLOTLYENV || {};window.PLOTLYENV.BASE_URL=\"https://plot.ly\";Plotly.newPlot(\"06a46c07-8c2a-4dad-9a86-9fbb2d5963d0\", [{\"name\": \"(u'F', u'B')\", \"text\": \"\", \"y\": [\"\", 2154.496855345912, 1887.7172413793103, 924.8848039215686], \"marker\": {\"color\": \"rgba(255, 153, 51, 0.6)\", \"line\": {\"color\": \"rgba(255, 153, 51, 1.0)\", \"width\": 1}}, \"x\": [\"F1\", \"F2\", \"F3\", \"FS\"], \"type\": \"bar\", \"orientation\": \"v\"}, {\"name\": \"(u'F', u'L')\", \"text\": \"\", \"y\": [3465.494623655914, 2266.885931558935, 1763.1566265060242, 824.0380021715526], \"marker\": {\"color\": \"rgba(55, 128, 191, 0.6)\", \"line\": {\"color\": \"rgba(55, 128, 191, 1.0)\", \"width\": 1}}, \"x\": [\"F1\", \"F2\", \"F3\", \"FS\"], \"type\": \"bar\", \"orientation\": \"v\"}, {\"name\": \"(u'F', u'W')\", \"text\": \"\", \"y\": [3226.963190184049, 2122.194214876033, 1725.133843212237, 889.5719139297848], \"marker\": {\"color\": \"rgba(50, 171, 96, 0.6)\", \"line\": {\"color\": \"rgba(50, 171, 96, 1.0)\", \"width\": 1}}, \"x\": [\"F1\", \"F2\", \"F3\", \"FS\"], \"type\": \"bar\", \"orientation\": \"v\"}, {\"name\": \"(u'M', u'B')\", \"text\": \"\", \"y\": [4902.798013245033, 2867.770642201835, 1914.8777985074628, 724.5814905814906], \"marker\": {\"color\": \"rgba(128, 0, 128, 0.6)\", \"line\": {\"color\": \"rgba(128, 0, 128, 1.0)\", \"width\": 1}}, \"x\": [\"F1\", \"F2\", \"F3\", \"FS\"], \"type\": \"bar\", \"orientation\": \"v\"}, {\"name\": \"(u'M', u'L')\", \"text\": \"\", \"y\": [4635.724155578301, 2637.5111290975315, 1792.0573446327683, 757.0900641025642], \"marker\": {\"color\": \"rgba(219, 64, 82, 0.6)\", \"line\": {\"color\": \"rgba(219, 64, 82, 1.0)\", \"width\": 1}}, \"x\": [\"F1\", \"F2\", \"F3\", \"FS\"], \"type\": \"bar\", \"orientation\": \"v\"}, {\"name\": \"(u'M', u'W')\", \"text\": \"\", \"y\": [4501.660297239915, 2452.90088638195, 1775.0099750623442, 777.3281444582815], \"marker\": {\"color\": \"rgba(0, 128, 128, 0.6)\", \"line\": {\"color\": \"rgba(0, 128, 128, 1.0)\", \"width\": 1}}, \"x\": [\"F1\", \"F2\", \"F3\", \"FS\"], \"type\": \"bar\", \"orientation\": \"v\"}], {\"paper_bgcolor\": \"#F5F6F9\", \"plot_bgcolor\": \"#F5F6F9\", \"xaxis1\": {\"tickfont\": {\"color\": \"#4D5663\"}, \"title\": \"\", \"showgrid\": true, \"zerolinecolor\": \"#E1E5ED\", \"gridcolor\": \"#E1E5ED\", \"titlefont\": {\"color\": \"#4D5663\"}}, \"yaxis1\": {\"tickfont\": {\"color\": \"#4D5663\"}, \"title\": \"\", \"showgrid\": true, \"zerolinecolor\": \"#E1E5ED\", \"gridcolor\": \"#E1E5ED\", \"titlefont\": {\"color\": \"#4D5663\"}}, \"titlefont\": {\"color\": \"#4D5663\"}, \"legend\": {\"bgcolor\": \"#F5F6F9\", \"font\": {\"color\": \"#4D5663\"}}}, {\"linkText\": \"Export to plot.ly\", \"showLink\": true})});</script>"
      ]
     },
     "metadata": {},
     "output_type": "display_data"
    }
   ],
   "source": [
    "#sentence_grouped = sentence_grouped.iplot(kind='bar', filename='cufflinks/grouped-bar-chart')\n",
    "sentence_pivot = sentence_grouped.pivot_table(columns=['SEX', 'RACE'], index='OFFENSE-TYPE', values='ORIGINAL-SENTENCE-DAYS')\n",
    "sentence_pivot\n",
    "\n",
    "\n",
    "iplot(sentence_pivot.iplot(asFigure=True,\n",
    "                               kind='bar'))"
   ]
  },
  {
   "cell_type": "code",
   "execution_count": null,
   "metadata": {},
   "outputs": [],
   "source": []
  }
 ],
 "metadata": {
  "kernelspec": {
   "display_name": "Python 2",
   "language": "python",
   "name": "python2"
  },
  "language_info": {
   "codemirror_mode": {
    "name": "ipython",
    "version": 2
   },
   "file_extension": ".py",
   "mimetype": "text/x-python",
   "name": "python",
   "nbconvert_exporter": "python",
   "pygments_lexer": "ipython2",
   "version": "2.7.13"
  }
 },
 "nbformat": 4,
 "nbformat_minor": 2
}
